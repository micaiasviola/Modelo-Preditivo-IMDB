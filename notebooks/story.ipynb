{
 "cells": [
  {
   "cell_type": "markdown",
   "id": "c7a9efd6",
   "metadata": {},
   "source": [
    "Desafio Cientista de Dados: Análise Cinematográfica - Indicium\n",
    "\n",
    "\n",
    "O objetivo desse projeto é treinar um modelo de Machine Learning para ler e interpretar dados de filmes para definir qual o proximo filme a ser lançado.\n",
    "\n",
    "## **Criação do ambiente de desenvolvimento:**\n",
    " Criar um ambiente de desenvolvimento (VENV) e importar as bibliotecas necessarias para a execução do projeto."
   ]
  },
  {
   "cell_type": "code",
   "execution_count": null,
   "id": "5fa1ec9c",
   "metadata": {},
   "outputs": [],
   "source": [
    "# pip install -r requirements.txt (rodar uma vez para instalar as bibliotecas)\n",
    "\n",
    "# criar o ambiente virtual (rodar uma vez)\n",
    "# python -m venv venv\n",
    "\n",
    "# ativar o ambiente virtual (rodar sempre que for iniciar o projeto)\n",
    "# Windows: .\\venv\\Scripts\\activate\n",
    "# Mac/Linux: source venv/bin/activate\n",
    "\n",
    "##=======================================##\n",
    "\n",
    "# Importando as bibliotecas necessarias\n",
    "\n",
    "import pandas as pd # Manipulação de dados\n",
    "import numpy as np # Calculos Numéricos\n",
    "import matplotlib.pyplot as plt # # Visualização de dados\n",
    "import seaborn as sns # Visualização de dados\n",
    "\n",
    "# Bibliotecas para Machine Learning\n",
    "\n",
    "from sklearn.model_selection import train_test_split\n",
    "from sklearn.linear_model import LinearRegression\n",
    "from sklearn.metrics import mean_squared_error, mean_absolute_error\n",
    "\n",
    "# Biblioteca para salvar o modelo\n",
    "\n",
    "import joblib"
   ]
  },
  {
   "cell_type": "markdown",
   "id": "1deb3019",
   "metadata": {},
   "source": [
    "## **Análise Exploratória dos dados (EDA)**\n",
    " Análise Exploratória dos dados (EDA) -> O objetivo neste passo é descobrir padrões, identificar anomalias, testar hipóteses e verificar suposições com ajuda das estatisticas e representações gráficas."
   ]
  },
  {
   "cell_type": "markdown",
   "id": "2154c4a4",
   "metadata": {},
   "source": [
    "Nesse passo eu faço uma análise exploratória incial dos dados. Passo fundamental para saber a saúde dos dados, antes de começar a trabalhar nele"
   ]
  },
  {
   "cell_type": "code",
   "execution_count": 67,
   "id": "ceee5bad",
   "metadata": {},
   "outputs": [
    {
     "name": "stdout",
     "output_type": "stream",
     "text": [
      "<class 'pandas.core.frame.DataFrame'>\n",
      "RangeIndex: 999 entries, 0 to 998\n",
      "Data columns (total 16 columns):\n",
      " #   Column         Non-Null Count  Dtype  \n",
      "---  ------         --------------  -----  \n",
      " 0   Unnamed: 0     999 non-null    int64  \n",
      " 1   Series_Title   999 non-null    object \n",
      " 2   Released_Year  999 non-null    object \n",
      " 3   Certificate    898 non-null    object \n",
      " 4   Runtime        999 non-null    object \n",
      " 5   Genre          999 non-null    object \n",
      " 6   IMDB_Rating    999 non-null    float64\n",
      " 7   Overview       999 non-null    object \n",
      " 8   Meta_score     842 non-null    float64\n",
      " 9   Director       999 non-null    object \n",
      " 10  Star1          999 non-null    object \n",
      " 11  Star2          999 non-null    object \n",
      " 12  Star3          999 non-null    object \n",
      " 13  Star4          999 non-null    object \n",
      " 14  No_of_Votes    999 non-null    int64  \n",
      " 15  Gross          830 non-null    object \n",
      "dtypes: float64(2), int64(2), object(12)\n",
      "memory usage: 125.0+ KB\n"
     ]
    },
    {
     "data": {
      "text/plain": [
       "Unnamed: 0         0\n",
       "Series_Title       0\n",
       "Released_Year      0\n",
       "Certificate      101\n",
       "Runtime            0\n",
       "Genre              0\n",
       "IMDB_Rating        0\n",
       "Overview           0\n",
       "Meta_score       157\n",
       "Director           0\n",
       "Star1              0\n",
       "Star2              0\n",
       "Star3              0\n",
       "Star4              0\n",
       "No_of_Votes        0\n",
       "Gross            169\n",
       "dtype: int64"
      ]
     },
     "execution_count": 67,
     "metadata": {},
     "output_type": "execute_result"
    }
   ],
   "source": [
    "display = pd.read_csv('../data/desafio_indicium_imdb.csv')\n",
    "\n",
    "display.head() # Visualizando as 5 primeiras linhas do dataset\n",
    "display.info() # Informações gerais do dataset\n",
    "display.describe() # Estatisticas descritivas\n",
    "display.isnull().sum() # Verificando valores nulos"
   ]
  },
  {
   "cell_type": "markdown",
   "id": "861c26ef",
   "metadata": {},
   "source": [
    "Após a verificação dos dados ja noto alguns pontos:\n",
    "\n",
    "    1- O dataset possui 16 colunas\n",
    "    2- Coluna unnamed é um indice desnecessario, irei remove-la para evitar poluição\n",
    "    3- As colunas Released_Year, Runtime e Gross são do tipo object, quando na verdade deveriam ser do tipo numérico.\n",
    "    4- As colunas Certificate, Meta_score e Gross possuem alguns valores não nulos faltando, isso significa que temos um problema de dados ausentes.\n",
    "    "
   ]
  },
  {
   "cell_type": "code",
   "execution_count": 68,
   "id": "6a98befc",
   "metadata": {},
   "outputs": [
    {
     "name": "stdout",
     "output_type": "stream",
     "text": [
      "\n",
      "Colunas após a limpeza: Index(['Series_Title', 'Released_Year', 'Certificate', 'Runtime', 'Genre',\n",
      "       'IMDB_Rating', 'Overview', 'Meta_score', 'Director', 'Star1', 'Star2',\n",
      "       'Star3', 'Star4', 'No_of_Votes', 'Gross'],\n",
      "      dtype='object')\n",
      "<class 'pandas.core.frame.DataFrame'>\n",
      "RangeIndex: 999 entries, 0 to 998\n",
      "Data columns (total 15 columns):\n",
      " #   Column         Non-Null Count  Dtype  \n",
      "---  ------         --------------  -----  \n",
      " 0   Series_Title   999 non-null    object \n",
      " 1   Released_Year  999 non-null    object \n",
      " 2   Certificate    898 non-null    object \n",
      " 3   Runtime        999 non-null    object \n",
      " 4   Genre          999 non-null    object \n",
      " 5   IMDB_Rating    999 non-null    float64\n",
      " 6   Overview       999 non-null    object \n",
      " 7   Meta_score     842 non-null    float64\n",
      " 8   Director       999 non-null    object \n",
      " 9   Star1          999 non-null    object \n",
      " 10  Star2          999 non-null    object \n",
      " 11  Star3          999 non-null    object \n",
      " 12  Star4          999 non-null    object \n",
      " 13  No_of_Votes    999 non-null    int64  \n",
      " 14  Gross          830 non-null    object \n",
      "dtypes: float64(2), int64(1), object(12)\n",
      "memory usage: 117.2+ KB\n"
     ]
    },
    {
     "data": {
      "text/plain": [
       "Series_Title       0\n",
       "Released_Year      0\n",
       "Certificate      101\n",
       "Runtime            0\n",
       "Genre              0\n",
       "IMDB_Rating        0\n",
       "Overview           0\n",
       "Meta_score       157\n",
       "Director           0\n",
       "Star1              0\n",
       "Star2              0\n",
       "Star3              0\n",
       "Star4              0\n",
       "No_of_Votes        0\n",
       "Gross            169\n",
       "dtype: int64"
      ]
     },
     "execution_count": 68,
     "metadata": {},
     "output_type": "execute_result"
    }
   ],
   "source": [
    "display = display.drop('Unnamed: 0', axis=1, errors='ignore') # Removendo a coluna 'Unnamed: 0' se existir\n",
    "print(\"\\nColunas após a limpeza:\", display.columns)\n",
    "\n",
    "display.head()\n",
    "display.info()\n",
    "display.describe()\n",
    "display.isnull().sum()"
   ]
  },
  {
   "cell_type": "markdown",
   "id": "29c858c8",
   "metadata": {},
   "source": [
    "> ### Padronização:\n",
    "\n",
    "  Agora eu irei padronizar as colunas que deveriam ser do tipo numérico, esse passo é fundamental para a criação do modelo que vem no passo à seguir."
   ]
  },
  {
   "cell_type": "code",
   "execution_count": 69,
   "id": "575d1d8c",
   "metadata": {},
   "outputs": [
    {
     "name": "stdout",
     "output_type": "stream",
     "text": [
      "0    134,966,411\n",
      "1    534,858,444\n",
      "2     57,300,000\n",
      "3      4,360,000\n",
      "4    377,845,905\n",
      "Name: Gross, dtype: object\n"
     ]
    }
   ],
   "source": [
    "# Primeiro eu vou dar um print nas 5 primeiras linhas da coluna GROSS para entender como ela esta formatada\n",
    "\n",
    "print(display['Gross'].head())\n"
   ]
  },
  {
   "cell_type": "markdown",
   "id": "0c274cd0",
   "metadata": {},
   "source": [
    "- Após a verificação dos dados ja noto que precisarei apenas remover as virgulas e converter a coluna para float\n"
   ]
  },
  {
   "cell_type": "code",
   "execution_count": 70,
   "id": "3714d743",
   "metadata": {},
   "outputs": [
    {
     "name": "stdout",
     "output_type": "stream",
     "text": [
      "0    134966411.0\n",
      "1    534858444.0\n",
      "2     57300000.0\n",
      "3      4360000.0\n",
      "4    377845905.0\n",
      "Name: Gross, dtype: float64\n"
     ]
    }
   ],
   "source": [
    "# Limpando a coluna Gross\n",
    "\n",
    "display['Gross'] = display['Gross'].str.replace(',', '')\n",
    "\n",
    "# Convertendo a coluna Gross para numérico, a função pd.to_numeric ja identifica as caracteristicas do número (inteiro ou float)\n",
    "\n",
    "display['Gross'] = pd.to_numeric(display['Gross'], errors='coerce')\n",
    "\n",
    "# Verificando se a limpeza foi bem sucedida\n",
    "print(display['Gross'].head())"
   ]
  },
  {
   "cell_type": "markdown",
   "id": "d120cc08",
   "metadata": {},
   "source": [
    "- Farei a mesma coisa para Runtime"
   ]
  },
  {
   "cell_type": "code",
   "execution_count": 71,
   "id": "24a3ade6",
   "metadata": {},
   "outputs": [
    {
     "name": "stdout",
     "output_type": "stream",
     "text": [
      "0    175 min\n",
      "1    152 min\n",
      "2    202 min\n",
      "3     96 min\n",
      "4    201 min\n",
      "Name: Runtime, dtype: object\n",
      "0    175\n",
      "1    152\n",
      "2    202\n",
      "3     96\n",
      "4    201\n",
      "Name: Runtime, dtype: int64\n"
     ]
    }
   ],
   "source": [
    "print(display['Runtime'].head())\n",
    "display['Runtime'] = display['Runtime'].str.replace('min', '')\n",
    "\n",
    "display['Runtime'] = pd.to_numeric(display['Runtime'], errors='coerce')\n",
    "print(display['Runtime'].head())"
   ]
  },
  {
   "cell_type": "markdown",
   "id": "0f69d10c",
   "metadata": {},
   "source": [
    " - Ao converter Released_Year para Float, encontrei o seguinte erro: \"Algumas linhas possuem o caracter PG, o que torna impossivel de converter para float\". A solução que encontrei para esse problema é:\n",
    "    -> Encontrar as linhas\n",
    "    -> Identificar o porque \"PG\" aparece em Released_Year"
   ]
  },
  {
   "cell_type": "code",
   "execution_count": 72,
   "id": "cde6ee70",
   "metadata": {},
   "outputs": [
    {
     "name": "stdout",
     "output_type": "stream",
     "text": [
      "Linhas com erro na conversão de 'Released_Year':\n",
      "    Series_Title Released_Year Certificate\n",
      "965    Apollo 13            PG           U\n"
     ]
    }
   ],
   "source": [
    "temp = pd.to_numeric(display['Released_Year'], errors='coerce')\n",
    "\n",
    "# Encontrar as linhas onde a conversão falhou\n",
    "\n",
    "linhas_com_erro = display[temp.isnull()]\n",
    "\n",
    "print(\"Linhas com erro na conversão de 'Released_Year':\")\n",
    "\n",
    "# Dou um print nas linhas adjacentes a Released_Year para tentar entender o que esta acontecendo\n",
    "print(linhas_com_erro[['Series_Title', 'Released_Year', 'Certificate']])\n",
    "\n",
    "# Verifico que os dados estão alterados, ou seja, algum erro de digitação ou formatação ocorreu.\n",
    "# A linha 965 possui \"PG\" em Released_Year, o que é incorreto\n"
   ]
  },
  {
   "cell_type": "markdown",
   "id": "a04a6b57",
   "metadata": {},
   "source": [
    "- Utilizo a função .loc do Pandas para fazer a conversão da linha 965, essa função nos permite acessar os dados de um DataFrame com base nos rótulos (linhas e colunas). E atribúo o ano 1995\n"
   ]
  },
  {
   "cell_type": "code",
   "execution_count": 73,
   "id": "101d9783",
   "metadata": {},
   "outputs": [],
   "source": [
    "display.loc[965, 'Released_Year'] = 1995\n",
    "display.loc[965, 'Certificate'] = 'U'"
   ]
  },
  {
   "cell_type": "code",
   "execution_count": 74,
   "id": "6f32cc60",
   "metadata": {},
   "outputs": [
    {
     "name": "stdout",
     "output_type": "stream",
     "text": [
      "Linha 965 após a correção:\n",
      "Released_Year    1995\n",
      "Certificate         U\n",
      "Name: 965, dtype: object\n"
     ]
    }
   ],
   "source": [
    "print(\"Linha 965 após a correção:\")\n",
    "print(display.loc[965, ['Released_Year', 'Certificate']])"
   ]
  },
  {
   "cell_type": "markdown",
   "id": "555163c0",
   "metadata": {},
   "source": [
    "- Por fim converto para int64"
   ]
  },
  {
   "cell_type": "code",
   "execution_count": 75,
   "id": "737defb5",
   "metadata": {},
   "outputs": [
    {
     "name": "stdout",
     "output_type": "stream",
     "text": [
      "0    1972\n",
      "1    2008\n",
      "2    1974\n",
      "3    1957\n",
      "4    2003\n",
      "Name: Released_Year, dtype: int64\n"
     ]
    }
   ],
   "source": [
    "display['Released_Year'] = pd.to_numeric(display['Released_Year'], errors=\"coerce\")\n",
    "\n",
    "print(display['Released_Year'].head())"
   ]
  },
  {
   "cell_type": "markdown",
   "id": "3d02a46d",
   "metadata": {},
   "source": [
    "> ### Preenchimento de valores nulos:\n",
    "\n",
    "Agora com os dados padronizados podemos seguir para o proximo passo, que será a criação do modelo que ira preencher os dados nulos no DataFrame.\n",
    "\n",
    "Como identificamos diversas linhas de dados ausentes (cerca de 427 linhas), eu optei por desenvolver um modelo de machine learning para imputar esses dados, ao inves de simplesmente apaga-los ou simular uma média.\n",
    "\n",
    "Essa decisão foi tomada devido à grande quantidade de dados ausentes. E essa me parece a escolha mais acertada pelos seguintes motivos:\n",
    "\n",
    "    - Preservação dos dados\n",
    "    - Mantém a variabilidade\n",
    "    - Melhora na qualidade dos dados\n",
    "    - Redução do viés\n",
    "\n",
    "> Na célula abaixo será criado o modelo"
   ]
  },
  {
   "cell_type": "code",
   "execution_count": 76,
   "id": "568a7b80",
   "metadata": {},
   "outputs": [],
   "source": [
    "\n",
    "def preencher_dados_numericos(display, coluna_ausente, colunas_previsoras, modelo=LinearRegression()):\n",
    "    '''\n",
    "    Essa função é responsável por preencher valores ausente em uma coluna nmérica usando um modelo de regressão\n",
    "\n",
    "    Argumentos:\n",
    "        display: DataFrame do Pandas contendo os dados\n",
    "        coluna_ausente: Nome da coluna que possui valores ausentes\n",
    "        colunas_previsoras: lista de colunas que serão usadas como variáveis independentes para prever os valores ausentes\n",
    "\n",
    "    Retornos:\n",
    "        DataFrame com os valores preenchidos.\n",
    "    '''\n",
    "\n",
    "    # 1. Copiar o dataframe original para evitar modificar os dados originais\n",
    "\n",
    "    dados_copia = display.copy()\n",
    "\n",
    "    # 2. Separar os dados em dois conjuntos: um com valores ausentes e outro sem valores ausentes\n",
    "    # as linhas com os dados completos serão utilizadas para treinar o modelo de regressão\n",
    "    dados_treino = dados_copia.dropna(subset=[coluna_ausente])\n",
    "\n",
    "    # linhas com os dados ausentes que serão preenchidas\n",
    "    dados_prever = dados_copia[dados_copia[coluna_ausente].isnull()]\n",
    "    \n",
    "    # 3.Preparar variaveis de entrada e saída\n",
    "\n",
    "    A_treino = dados_treino[colunas_previsoras]\n",
    "    B_treino = dados_treino[coluna_ausente]\n",
    "    A_prever = dados_prever[colunas_previsoras]\n",
    "\n",
    "    # 4. Treinar o modelo de regressão\n",
    "    # Esse modelo seria treinado para aprender a relação entre as colunas complestas e as faltantes\n",
    "\n",
    "    modelo.fit(A_treino, B_treino)\n",
    "\n",
    "    # 5. Fazer previsões para os valores ausentes\n",
    "    valores_previstos = modelo.predict(A_prever)\n",
    "\n",
    "    # Arredondar os valores previstos para o inteiro mais próximo\n",
    "    valores_previstos = np.round(valores_previstos)\n",
    "\n",
    "    # 6. Substituir os valores ausentes pelos valores previstos\n",
    "    # Utilizo o .loc para garantir que os valores sejam atributidos corretamente nos indices\n",
    "\n",
    "    dados_copia.loc[dados_copia[coluna_ausente].isnull(), coluna_ausente] = valores_previstos\n",
    "\n",
    "    print(f\"Valores ausentes na coluna '{coluna_ausente}' foram preenchidos com sucesso usando {modelo.__class__.__name__}.\")\n",
    "\n",
    "    return dados_copia\n",
    "\n",
    "''' Criando a previsão para Certificate, como a coluna é categórica um modelo de regressão \n",
    "    não vai funcionar justamente por não serem valores numéricos, então optei por preencher\n",
    "    usando a moda (valor mais frequente), isso vai garantir uma imputação rapida e eficaz, \n",
    "'''\n",
    "\n",
    "def preencher_dados_categoricos(display, coluna_ausente):\n",
    "    '''\n",
    "    Essa função é responsável por preencher valores ausente em uma coluna categórica usando a moda (valor mais frequente)\n",
    "\n",
    "    Argumentos:\n",
    "        display: DataFrame do Pandas contendo os dados\n",
    "        coluna_ausente: Nome da coluna que possui valores ausentes\n",
    "\n",
    "    Retornos:\n",
    "        DataFrame com os valores preenchidos.\n",
    "    '''\n",
    "\n",
    "    # 1. Copiar o dataframe original para evitar modificar os dados originais\n",
    "\n",
    "    dados_copia = display.copy()\n",
    "\n",
    "    # 2. Calcular a moda (valor mais frequente) da coluna categórica\n",
    "    moda = dados_copia[coluna_ausente].mode()[0]\n",
    "\n",
    "    # 3. Preencher os valores ausentes com a moda\n",
    "    dados_copia[coluna_ausente] = dados_copia[coluna_ausente].fillna(moda)\n",
    "\n",
    "    print(f\"Valores ausentes na coluna '{coluna_ausente}' foram preenchidos com sucesso usando a moda: {moda}.\")\n",
    "\n",
    "    return dados_copia"
   ]
  },
  {
   "cell_type": "markdown",
   "id": "3a884326",
   "metadata": {},
   "source": [
    "- após a criação do modelo devemos imputar as colunas:"
   ]
  },
  {
   "cell_type": "markdown",
   "id": "a99bc464",
   "metadata": {},
   "source": [
    "#### Gross\n",
    "    Utilizando a função de preencher dados numericos do modelo"
   ]
  },
  {
   "cell_type": "code",
   "execution_count": 77,
   "id": "ec80d24b",
   "metadata": {},
   "outputs": [
    {
     "name": "stdout",
     "output_type": "stream",
     "text": [
      "Valores ausentes na coluna 'Gross' foram preenchidos com sucesso usando LinearRegression.\n"
     ]
    }
   ],
   "source": [
    "display = preencher_dados_numericos(\n",
    "    display=display,\n",
    "    coluna_ausente='Gross',\n",
    "    colunas_previsoras=['IMDB_Rating', 'Runtime']\n",
    ")"
   ]
  },
  {
   "cell_type": "markdown",
   "id": "b68283b7",
   "metadata": {},
   "source": [
    "#### Meta_score\n",
    "    Utilizando a função de preencher dados numericos do modelo"
   ]
  },
  {
   "cell_type": "code",
   "execution_count": 78,
   "id": "f4a36d95",
   "metadata": {},
   "outputs": [
    {
     "name": "stdout",
     "output_type": "stream",
     "text": [
      "Valores ausentes na coluna 'Meta_score' foram preenchidos com sucesso usando LinearRegression.\n"
     ]
    }
   ],
   "source": [
    "display = preencher_dados_numericos(\n",
    "    display=display,\n",
    "    coluna_ausente='Meta_score',\n",
    "    colunas_previsoras=['IMDB_Rating', 'Runtime', 'Gross']\n",
    ")"
   ]
  },
  {
   "cell_type": "markdown",
   "id": "aa5a77d2",
   "metadata": {},
   "source": [
    "#### Certificate\n",
    "    Utilizando a função de preencher dados categóricos do modelo"
   ]
  },
  {
   "cell_type": "code",
   "execution_count": 79,
   "id": "0c042f3c",
   "metadata": {},
   "outputs": [
    {
     "name": "stdout",
     "output_type": "stream",
     "text": [
      "Valores ausentes na coluna 'Certificate' foram preenchidos com sucesso usando a moda: U.\n"
     ]
    }
   ],
   "source": [
    "display = preencher_dados_categoricos(\n",
    "    display=display,\n",
    "    coluna_ausente='Certificate'\n",
    ")"
   ]
  },
  {
   "cell_type": "markdown",
   "id": "ac629a68",
   "metadata": {},
   "source": [
    "    Após o preenchimentos dos dados eu faço a verificação:"
   ]
  },
  {
   "cell_type": "code",
   "execution_count": 80,
   "id": "0ea426e2",
   "metadata": {},
   "outputs": [
    {
     "name": "stdout",
     "output_type": "stream",
     "text": [
      "\n",
      "Contagem de valores nulos após a imputação:\n",
      "Series_Title     0\n",
      "Released_Year    0\n",
      "Certificate      0\n",
      "Runtime          0\n",
      "Genre            0\n",
      "IMDB_Rating      0\n",
      "Overview         0\n",
      "Meta_score       0\n",
      "Director         0\n",
      "Star1            0\n",
      "Star2            0\n",
      "Star3            0\n",
      "Star4            0\n",
      "No_of_Votes      0\n",
      "Gross            0\n",
      "dtype: int64\n"
     ]
    }
   ],
   "source": [
    "print(\"\\nContagem de valores nulos após a imputação:\")\n",
    "print(display.isnull().sum())"
   ]
  },
  {
   "cell_type": "markdown",
   "id": "362968ec",
   "metadata": {},
   "source": [
    "#### Análise dos dados"
   ]
  },
  {
   "cell_type": "markdown",
   "id": "183a52e7",
   "metadata": {},
   "source": [
    "A partir dos dados padronizados eu irei criar um grafico de dispersão para entender as relações entre as variaveis com a nota do IMDB.\n",
    "Optei por um grafico de dispersão por que com ele sera possivel plotar todas as variaveis numéricas do DataFrame em um peso de valor iguas no gráfico contra o IMDB"
   ]
  },
  {
   "cell_type": "code",
   "execution_count": 81,
   "id": "b6ca1ebd",
   "metadata": {},
   "outputs": [
    {
     "data": {
      "image/png": "[encoded data removed]",
      "text/plain": [
       "<Figure size 1800x1000 with 6 Axes>"
      ]
     },
     "metadata": {},
     "output_type": "display_data"
    }
   ],
   "source": [
    "def plotar_Grafico_dispersao(caminho_do_arquivo):\n",
    "\n",
    "    # Verificando se o arquivo existe e carregando os dados\n",
    "    try:\n",
    "        display = pd.read_csv('../data/desafio_indicium_imdb.csv')\n",
    "    except FileNotFoundError:\n",
    "        print(f\"Erro: O arquivo '{caminho_do_arquivo}' não foi encontrado.\")\n",
    "        return\n",
    "\n",
    "    # Lista de variaveis para plotar contra IMDB_Rating\n",
    "    variaveis = ['Gross', 'Meta_score', 'Runtime', 'No_of_Votes']\n",
    "\n",
    "    # Configuração da figura de plotagem\n",
    "    fig, axes = plt.subplots(nrows=2, ncols=3, figsize=(18, 10)) # 2 linhas, 3 colunas\n",
    "    axes = axes.flatten()  # Achatar a matriz de eixos para facilitar a iteração\n",
    "\n",
    "    # Plotar cada variavel contra IMDB_Rating\n",
    "    for i, var in enumerate(variaveis):\n",
    "        if var in display.columns and 'IMDB_Rating' in display.columns:\n",
    "            sns.scatterplot(data=display, x=var, y='IMDB_Rating', ax=axes[i])\n",
    "            axes[i].set_title(f'Dispersão entre {var} e IMDB_Rating')\n",
    "            axes[i].set_xlabel(var)\n",
    "            axes[i].set_ylabel('IMDB_Rating')\n",
    "        else:\n",
    "            print(f\"Coluna {var} ou IMDB_Rating não encontrada no DataFrame.\")\n",
    "            axes[i].set_visible(False)  # Ocultar o eixo se a coluna não existir\n",
    "        \n",
    "    plt.tight_layout()  # Ajustar o layout para evitar sobreposição\n",
    "    plt.show()\n",
    "\n",
    "plotar_Grafico_dispersao('../data/desafio_indicium_imdb.csv')"
   ]
  },
  {
   "cell_type": "markdown",
   "id": "22833df4",
   "metadata": {},
   "source": [
    ">Dado os graficos acima podemos afirmar que:\n",
    "\n",
    "**Gross vs IMDb_Rating**: Não existe uma forte correlação entre ganhos de bilheteria de um filme (Gross) e sua classificação no IMDb devido aos pontos estarem muito espalhados horizontalmente\n",
    "\n",
    "**Meta-score vs IMDb_Rating**: Existe uma correlação positiva embora imperfeita, é possível observar em a medida que o Meta-score aumenta, o IMBd_Rating também tende a aumentar\n",
    "\n",
    "**Runtime vs IMDb_Rating**: O grafico de dispersão entre Runtime e IMDb_rating mostra uma linha horizontal de pontos que estão fortemente concentrados, isso mostra que muitos filmes possuem Runtime semelhantes mas uma ampla gama de IMDb_Rating mostrando que a duração de um filme não é uma forma confiável de prever a sua classificação.\n",
    "\n",
    "**No_of_Votes vs IMDb_Rating**: Esse gráfico mostra uma relação positiva, embora seja claro que filmes com bastante números de votos tendem a possuir uma nota mais alta no IMDb."
   ]
  },
  {
   "cell_type": "markdown",
   "id": "aa9ec911",
   "metadata": {},
   "source": [
    ">  levantar hipóteses"
   ]
  },
  {
   "cell_type": "markdown",
   "id": "6538edf0",
   "metadata": {},
   "source": [
    "## **Respostas da questão 2 do processo seletivo**"
   ]
  },
  {
   "cell_type": "markdown",
   "id": "33de08ce",
   "metadata": {},
   "source": [
    "----\n",
    "\n",
    ">##### Alternativa A) Qual filme você recomendaria para uma pessoa que você não conhece? \n",
    "\n",
    "Após analisar os graficos da EDA, notei que o numero de votos é fortemente relacionado à nota do IMDb, então eu claramente recomendaria o filme com o maior número de votos, pois sugere que é um filme popular e amplamente aclamado pela crítica. Segue o codigo na proxima célula para encontrar esse filme no DataFrame\n"
   ]
  },
  {
   "cell_type": "code",
   "execution_count": 82,
   "id": "0486da64",
   "metadata": {},
   "outputs": [
    {
     "name": "stdout",
     "output_type": "stream",
     "text": [
      "Filme com o maior número de votos:\n",
      "Series_Title    The Dark Knight\n",
      "No_of_Votes             2303232\n",
      "IMDB_Rating                 9.0\n",
      "Name: 1, dtype: object\n"
     ]
    }
   ],
   "source": [
    "def encontrar_maior_numero_votos(display):\n",
    "    try:\n",
    "        display = pd.read_csv('../data/desafio_indicium_imdb.csv')\n",
    "        \n",
    "        # o metodo idxmax() retorna o indice do maior valor na coluna 'No_of_Votes'\n",
    "        filme_mais_votado = display.loc[display['No_of_Votes'].idxmax()]\n",
    "        print(\"Filme com o maior número de votos:\")\n",
    "        print(filme_mais_votado[['Series_Title', 'No_of_Votes', 'IMDB_Rating']])\n",
    "    except FileNotFoundError:\n",
    "        print(\"Erro: O arquivo 'desafio_indicium_imdb.csv' não foi encontrado.\")\n",
    "\n",
    "encontrar_maior_numero_votos(display)"
   ]
  },
  {
   "cell_type": "markdown",
   "id": "1eeeb068",
   "metadata": {},
   "source": [
    "\n",
    "\n",
    "> *Após a analise dos dados o filme recomendado seria: The Dark Knight, 9.0 (IMDb)*\n"
   ]
  },
  {
   "cell_type": "markdown",
   "id": "f6f73b78",
   "metadata": {},
   "source": [
    "Porém eu gostaria de utilizar mais duas métricas para validar a recomendação, elas são.\n",
    "-   O filme com a maior classificação (IMDb)"
   ]
  },
  {
   "cell_type": "code",
   "execution_count": 84,
   "id": "fe07a590",
   "metadata": {},
   "outputs": [
    {
     "name": "stdout",
     "output_type": "stream",
     "text": [
      "Filme com a maior classificação (IMDb):\n",
      "Series_Title    The Godfather\n",
      "IMDB_Rating               9.2\n",
      "No_of_Votes           1620367\n",
      "Name: 0, dtype: object\n"
     ]
    }
   ],
   "source": [
    "def encontrar_maior_IMDb_Rating(display):\n",
    "    try:\n",
    "        display = pd.read_csv('../data/desafio_indicium_imdb.csv')\n",
    "\n",
    "        maior_imdb = display.loc[display['IMDB_Rating'].idxmax()]\n",
    "        print(\"Filme com a maior classificação (IMDb):\")\n",
    "        print(maior_imdb[['Series_Title', 'IMDB_Rating', 'No_of_Votes']])\n",
    "    except FileNotFoundError:\n",
    "        print(\"Erro: O arquivo 'desafio_indicium_imdb.csv' não foi encontrado.\")\n",
    "\n",
    "encontrar_maior_IMDb_Rating(display)"
   ]
  },
  {
   "cell_type": "markdown",
   "id": "1ba3877b",
   "metadata": {},
   "source": [
    "\n",
    "> *O filme com o maior nota no IMDB é: The Godfather, 9.2 (IMDB)*"
   ]
  },
  {
   "cell_type": "markdown",
   "id": "78e1b267",
   "metadata": {},
   "source": [
    "- E uma a junção das duas métricas, o filme com o maior numero de votos e maior nota do IMDB em paralelo, codigo na proxima célula:"
   ]
  },
  {
   "cell_type": "code",
   "execution_count": 86,
   "id": "53f1a5ee",
   "metadata": {},
   "outputs": [
    {
     "name": "stdout",
     "output_type": "stream",
     "text": [
      "Filme com o maior número de votos e maior nota do IMDb:\n",
      "Series_Title    The Dark Knight\n",
      "No_of_Votes             2303232\n",
      "IMDB_Rating                 9.0\n",
      "Name: 1, dtype: object\n"
     ]
    }
   ],
   "source": [
    "def maior_votos_e_nota(display):\n",
    "    try:\n",
    "        display = pd.read_csv('../data/desafio_indicium_imdb.csv')\n",
    "\n",
    "        # Encontrar o maior número de votos\n",
    "        max_votos = display['No_of_Votes'].max()\n",
    "\n",
    "        # Filtrar os filmes que têm o maior número de votos\n",
    "        filmes_com_mais_votos = display[display['No_of_Votes'] == max_votos]\n",
    "\n",
    "        # Dentre esses filmes, encontrar aquele com a maior nota do IMDb\n",
    "        filme_recomendado = filmes_com_mais_votos.loc[filmes_com_mais_votos['IMDB_Rating'].idxmax()]\n",
    "\n",
    "        print(\"Filme com o maior número de votos e maior nota do IMDb:\")\n",
    "        print(filme_recomendado[['Series_Title', 'No_of_Votes', 'IMDB_Rating']])\n",
    "    except FileNotFoundError:\n",
    "        print(\"Erro: O arquivo 'desafio_indicium_imdb.csv' não foi encontrado.\")\n",
    "\n",
    "maior_votos_e_nota(display)"
   ]
  },
  {
   "cell_type": "markdown",
   "id": "cb979f3f",
   "metadata": {},
   "source": [
    "Por fim o filme mais recomendado seria justamente:\n",
    ">### **a. The Dark Knight, 9,0 (IMDB)**\n",
    "\n",
    "----"
   ]
  },
  {
   "cell_type": "markdown",
   "id": "501bce1b",
   "metadata": {},
   "source": [
    ">##### Alternativa b) Quais são os principais fatores que estão relacionados com alta expectativa de faturamento de um filme"
   ]
  }
 ],
 "metadata": {
  "kernelspec": {
   "display_name": "venv",
   "language": "python",
   "name": "python3"
  },
  "language_info": {
   "codemirror_mode": {
    "name": "ipython",
    "version": 3
   },
   "file_extension": ".py",
   "mimetype": "text/x-python",
   "name": "python",
   "nbconvert_exporter": "python",
   "pygments_lexer": "ipython3",
   "version": "3.13.7"
  }
 },
 "nbformat": 4,
 "nbformat_minor": 5
}
